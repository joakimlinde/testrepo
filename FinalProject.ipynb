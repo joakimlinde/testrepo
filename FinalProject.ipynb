{
 "cells": [
  {
   "cell_type": "markdown",
   "id": "288361ae-372c-4760-9603-74eb848c3674",
   "metadata": {},
   "source": [
    "# Data Science Tools and Ecosystem"
   ]
  },
  {
   "cell_type": "markdown",
   "id": "c46600d7-dfa2-4e71-8a4c-32eee6da62c9",
   "metadata": {},
   "source": [
    "## Author\n",
    "Joakim Linde"
   ]
  },
  {
   "cell_type": "markdown",
   "id": "3ab7f169-028e-4c0b-9073-7e696a91d099",
   "metadata": {},
   "source": [
    "## Introduction\n",
    "\n",
    "In this notebook, Data Science Tools and Ecosystem are summarized."
   ]
  },
  {
   "cell_type": "markdown",
   "id": "4295203b-7ae1-468e-a4d2-3e13953d9f42",
   "metadata": {},
   "source": [
    "Objective:\n",
    "- List popular languages for data science\n",
    "- List poplular data science tools\n",
    "- Exaples of evaluating arithmetic expressions in python"
   ]
  },
  {
   "cell_type": "markdown",
   "id": "46745336-90ed-4383-80f8-31f157f0c85e",
   "metadata": {},
   "source": [
    "## Data Science Tools and Ecosystem"
   ]
  },
  {
   "cell_type": "markdown",
   "id": "d6bad198-4164-4a90-88de-9c15afc9f08b",
   "metadata": {},
   "source": [
    "List of popular languages for data science:\n",
    "1. Julia\n",
    "2. Python\n",
    "3. R"
   ]
  },
  {
   "cell_type": "markdown",
   "id": "47f4faf0-031b-4be7-9a9f-c8063c55be10",
   "metadata": {},
   "source": [
    "Some of the commonly used libraries used by Data Scientists include:\n",
    "1. PyTorch\n",
    "2. Keras\n",
    "3. SciKit-learn"
   ]
  },
  {
   "cell_type": "markdown",
   "id": "76d9da83-9497-477a-b874-0cf78e80c324",
   "metadata": {},
   "source": [
    "| Data Science Tools | \n",
    "| ------------------ |\n",
    "| Jupiter            |\n",
    "| RStudio            |\n",
    "| VS Code            |"
   ]
  },
  {
   "cell_type": "markdown",
   "id": "d436f0ed-d2ac-4718-9649-5a8019baefc8",
   "metadata": {},
   "source": [
    "### Below are a few examples of evaluating arithmetic expressions in Python."
   ]
  },
  {
   "cell_type": "code",
   "execution_count": 5,
   "id": "21bc63bc-2d5d-4e31-93ae-fe6205c41769",
   "metadata": {},
   "outputs": [
    {
     "data": {
      "text/plain": [
       "17"
      ]
     },
     "execution_count": 5,
     "metadata": {},
     "output_type": "execute_result"
    }
   ],
   "source": [
    "# This is a simple arithmetic expression to mutiply then add integers\n",
    "(3*4)+5"
   ]
  },
  {
   "cell_type": "code",
   "execution_count": 1,
   "id": "a6769831-8fe8-4661-8bad-aa057742441a",
   "metadata": {},
   "outputs": [
    {
     "name": "stdout",
     "output_type": "stream",
     "text": [
      "200 minutes is 3.3333333333333335 hours.\n"
     ]
    }
   ],
   "source": [
    "# This will convert 200 minutes to hours by diving by 60\n",
    "def minutes_to_hours(min):\n",
    "    return (min/60)\n",
    "    \n",
    "print('200 minutes is {0} hours.'.format(minutes_to_hours(200)))"
   ]
  }
 ],
 "metadata": {
  "kernelspec": {
   "display_name": "Python 3 (ipykernel)",
   "language": "python",
   "name": "python3"
  },
  "language_info": {
   "codemirror_mode": {
    "name": "ipython",
    "version": 3
   },
   "file_extension": ".py",
   "mimetype": "text/x-python",
   "name": "python",
   "nbconvert_exporter": "python",
   "pygments_lexer": "ipython3",
   "version": "3.13.5"
  }
 },
 "nbformat": 4,
 "nbformat_minor": 5
}
